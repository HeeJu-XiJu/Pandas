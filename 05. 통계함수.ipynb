{
 "cells": [
  {
   "cell_type": "markdown",
   "id": "20135972-bd27-4248-bd28-42cf7da74912",
   "metadata": {},
   "source": [
    "# 📍 통계함수\n",
    "### ✅ 엑셀로 열기\n",
    ": ```pd.read_excel('파일명.xlsx', index_col='column')```"
   ]
  },
  {
   "cell_type": "code",
   "execution_count": 1,
   "id": "49d9cb37-13f6-4bfe-bdc9-0548124e09e1",
   "metadata": {
    "tags": []
   },
   "outputs": [
    {
     "data": {
      "text/html": [
       "<div>\n",
       "<style scoped>\n",
       "    .dataframe tbody tr th:only-of-type {\n",
       "        vertical-align: middle;\n",
       "    }\n",
       "\n",
       "    .dataframe tbody tr th {\n",
       "        vertical-align: top;\n",
       "    }\n",
       "\n",
       "    .dataframe thead th {\n",
       "        text-align: right;\n",
       "    }\n",
       "</style>\n",
       "<table border=\"1\" class=\"dataframe\">\n",
       "  <thead>\n",
       "    <tr style=\"text-align: right;\">\n",
       "      <th></th>\n",
       "      <th>이름</th>\n",
       "      <th>학교</th>\n",
       "      <th>키</th>\n",
       "      <th>국어</th>\n",
       "      <th>영어</th>\n",
       "      <th>수학</th>\n",
       "      <th>과학</th>\n",
       "      <th>사회</th>\n",
       "      <th>SW특기</th>\n",
       "    </tr>\n",
       "    <tr>\n",
       "      <th>지원번호</th>\n",
       "      <th></th>\n",
       "      <th></th>\n",
       "      <th></th>\n",
       "      <th></th>\n",
       "      <th></th>\n",
       "      <th></th>\n",
       "      <th></th>\n",
       "      <th></th>\n",
       "      <th></th>\n",
       "    </tr>\n",
       "  </thead>\n",
       "  <tbody>\n",
       "    <tr>\n",
       "      <th>1번</th>\n",
       "      <td>채치수</td>\n",
       "      <td>북산고</td>\n",
       "      <td>197</td>\n",
       "      <td>90</td>\n",
       "      <td>85</td>\n",
       "      <td>100</td>\n",
       "      <td>95</td>\n",
       "      <td>85</td>\n",
       "      <td>Python</td>\n",
       "    </tr>\n",
       "    <tr>\n",
       "      <th>2번</th>\n",
       "      <td>정대만</td>\n",
       "      <td>북산고</td>\n",
       "      <td>184</td>\n",
       "      <td>40</td>\n",
       "      <td>35</td>\n",
       "      <td>50</td>\n",
       "      <td>55</td>\n",
       "      <td>25</td>\n",
       "      <td>Java</td>\n",
       "    </tr>\n",
       "    <tr>\n",
       "      <th>3번</th>\n",
       "      <td>송태섭</td>\n",
       "      <td>북산고</td>\n",
       "      <td>168</td>\n",
       "      <td>80</td>\n",
       "      <td>75</td>\n",
       "      <td>70</td>\n",
       "      <td>80</td>\n",
       "      <td>75</td>\n",
       "      <td>Javascript</td>\n",
       "    </tr>\n",
       "    <tr>\n",
       "      <th>4번</th>\n",
       "      <td>서태웅</td>\n",
       "      <td>북산고</td>\n",
       "      <td>187</td>\n",
       "      <td>40</td>\n",
       "      <td>60</td>\n",
       "      <td>70</td>\n",
       "      <td>75</td>\n",
       "      <td>80</td>\n",
       "      <td>NaN</td>\n",
       "    </tr>\n",
       "    <tr>\n",
       "      <th>5번</th>\n",
       "      <td>강백호</td>\n",
       "      <td>북산고</td>\n",
       "      <td>188</td>\n",
       "      <td>15</td>\n",
       "      <td>20</td>\n",
       "      <td>10</td>\n",
       "      <td>35</td>\n",
       "      <td>10</td>\n",
       "      <td>NaN</td>\n",
       "    </tr>\n",
       "    <tr>\n",
       "      <th>6번</th>\n",
       "      <td>변덕규</td>\n",
       "      <td>능남고</td>\n",
       "      <td>202</td>\n",
       "      <td>80</td>\n",
       "      <td>100</td>\n",
       "      <td>95</td>\n",
       "      <td>85</td>\n",
       "      <td>80</td>\n",
       "      <td>C</td>\n",
       "    </tr>\n",
       "    <tr>\n",
       "      <th>7번</th>\n",
       "      <td>황태산</td>\n",
       "      <td>능남고</td>\n",
       "      <td>188</td>\n",
       "      <td>55</td>\n",
       "      <td>65</td>\n",
       "      <td>45</td>\n",
       "      <td>40</td>\n",
       "      <td>35</td>\n",
       "      <td>PYTHON</td>\n",
       "    </tr>\n",
       "    <tr>\n",
       "      <th>8번</th>\n",
       "      <td>윤대협</td>\n",
       "      <td>능남고</td>\n",
       "      <td>190</td>\n",
       "      <td>100</td>\n",
       "      <td>85</td>\n",
       "      <td>90</td>\n",
       "      <td>95</td>\n",
       "      <td>95</td>\n",
       "      <td>C#</td>\n",
       "    </tr>\n",
       "  </tbody>\n",
       "</table>\n",
       "</div>"
      ],
      "text/plain": [
       "       이름   학교    키   국어   영어   수학  과학  사회        SW특기\n",
       "지원번호                                                  \n",
       "1번    채치수  북산고  197   90   85  100  95  85      Python\n",
       "2번    정대만  북산고  184   40   35   50  55  25        Java\n",
       "3번    송태섭  북산고  168   80   75   70  80  75  Javascript\n",
       "4번    서태웅  북산고  187   40   60   70  75  80         NaN\n",
       "5번    강백호  북산고  188   15   20   10  35  10         NaN\n",
       "6번    변덕규  능남고  202   80  100   95  85  80           C\n",
       "7번    황태산  능남고  188   55   65   45  40  35      PYTHON\n",
       "8번    윤대협  능남고  190  100   85   90  95  95          C#"
      ]
     },
     "execution_count": 1,
     "metadata": {},
     "output_type": "execute_result"
    }
   ],
   "source": [
    "import pandas as pd\n",
    "\n",
    "df = pd.read_excel('score.xlsx', index_col='지원번호') # index 설정\n",
    "df"
   ]
  },
  {
   "cell_type": "markdown",
   "id": "3d4aadc3-17f9-401c-8e64-6af8b92da9cb",
   "metadata": {
    "tags": []
   },
   "source": [
    "### ✅ min()\n",
    ": 행/열에 대한 최솟값"
   ]
  },
  {
   "cell_type": "code",
   "execution_count": 2,
   "id": "9c968f15-9c0a-4979-83a1-cd0157d1cb1e",
   "metadata": {
    "tags": []
   },
   "outputs": [
    {
     "data": {
      "text/plain": [
       "168"
      ]
     },
     "execution_count": 2,
     "metadata": {},
     "output_type": "execute_result"
    }
   ],
   "source": [
    "df['키'].min()"
   ]
  },
  {
   "cell_type": "markdown",
   "id": "ee8bddb7-34ff-4cce-bf7c-4edb69a42cc3",
   "metadata": {},
   "source": [
    "### ✅ max()\n",
    ": 행/열에 대한 최댓값"
   ]
  },
  {
   "cell_type": "code",
   "execution_count": 3,
   "id": "bedb38b6-8085-4719-ad2d-1f82a602fb6e",
   "metadata": {
    "tags": []
   },
   "outputs": [
    {
     "data": {
      "text/plain": [
       "202"
      ]
     },
     "execution_count": 3,
     "metadata": {},
     "output_type": "execute_result"
    }
   ],
   "source": [
    "df['키'].max()"
   ]
  },
  {
   "cell_type": "markdown",
   "id": "44705445-7ea5-431d-b8fd-4459625ba0d6",
   "metadata": {},
   "source": [
    "### ✅ median()\n",
    ": 오름차순으로 정렬했을 때 중앙값\\\n",
    "  짝수개의 데이터가 있을 때 가운데 2개 중앙 데이터의 평균값"
   ]
  },
  {
   "cell_type": "code",
   "execution_count": 4,
   "id": "fdd8f5eb-7e59-465e-9b9e-57495f796c65",
   "metadata": {},
   "outputs": [
    {
     "data": {
      "text/plain": [
       "188.0"
      ]
     },
     "execution_count": 4,
     "metadata": {},
     "output_type": "execute_result"
    }
   ],
   "source": [
    "df['키'].median()"
   ]
  },
  {
   "cell_type": "markdown",
   "id": "c5c30982-2c17-414b-993e-46eb43a9e5a7",
   "metadata": {},
   "source": [
    "### ✅ nlargest(n)\n",
    ": 상위 n개의 데이터 출력"
   ]
  },
  {
   "cell_type": "code",
   "execution_count": 5,
   "id": "b77bb04f-91f5-4cd0-9951-594d42a6e247",
   "metadata": {
    "tags": []
   },
   "outputs": [
    {
     "data": {
      "text/plain": [
       "지원번호\n",
       "6번    202\n",
       "1번    197\n",
       "8번    190\n",
       "Name: 키, dtype: int64"
      ]
     },
     "execution_count": 5,
     "metadata": {},
     "output_type": "execute_result"
    }
   ],
   "source": [
    "df['키'].nlargest(3) # 키 큰 사람 순서대로 3명 데이터"
   ]
  },
  {
   "cell_type": "markdown",
   "id": "9f88c8ec-8ea5-436e-a5a3-b5a117abd1d0",
   "metadata": {},
   "source": [
    "### ✅ mean()\n",
    ": 행/열에 대한 평균값"
   ]
  },
  {
   "cell_type": "code",
   "execution_count": 6,
   "id": "14eba6df-7025-4973-b7bc-8ede7b67923b",
   "metadata": {
    "tags": []
   },
   "outputs": [
    {
     "data": {
      "text/plain": [
       "188.0"
      ]
     },
     "execution_count": 6,
     "metadata": {},
     "output_type": "execute_result"
    }
   ],
   "source": [
    "df['키'].mean()"
   ]
  },
  {
   "cell_type": "markdown",
   "id": "21ddf80b-59ac-45c4-b568-af3057d5dd1d",
   "metadata": {},
   "source": [
    ": ```df.mean(skipna=True/False)```\n",
    "- skipna = True(default값)\n",
    "- skipna = False로 설정되어 있다면, NaN값이 있는 columns NaN으로 출력"
   ]
  },
  {
   "cell_type": "code",
   "execution_count": 7,
   "id": "1b95b77a-bc76-49fd-a348-7472057189b0",
   "metadata": {},
   "outputs": [
    {
     "data": {
      "text/plain": [
       "키     188.000000\n",
       "국어     65.714286\n",
       "영어     65.625000\n",
       "수학     66.250000\n",
       "과학     70.000000\n",
       "사회     60.625000\n",
       "dtype: float64"
      ]
     },
     "execution_count": 7,
     "metadata": {},
     "output_type": "execute_result"
    }
   ],
   "source": [
    "import numpy as np\n",
    "\n",
    "df.loc['2번', '국어'] = np.nan\n",
    "df.mean(skipna=True, numeric_only = True)"
   ]
  },
  {
   "cell_type": "code",
   "execution_count": 8,
   "id": "3f07c661-4be0-48bb-b04e-2e188781b5c0",
   "metadata": {},
   "outputs": [
    {
     "data": {
      "text/plain": [
       "키     188.000\n",
       "국어        NaN\n",
       "영어     65.625\n",
       "수학     66.250\n",
       "과학     70.000\n",
       "사회     60.625\n",
       "dtype: float64"
      ]
     },
     "execution_count": 8,
     "metadata": {},
     "output_type": "execute_result"
    }
   ],
   "source": [
    "df.mean(skipna=False, numeric_only = True)"
   ]
  },
  {
   "cell_type": "markdown",
   "id": "a5f7bf73-b8ee-428f-a4ff-0fd446b8f720",
   "metadata": {},
   "source": [
    "### ✅ var()\n",
    ": 분산\n",
    "$$ \\text{분산} (\\text{Var}) = \\frac{1}{n} \\sum_{i=1}^{n} (x_i - \\bar{x})^2 $$\n",
    "- n 데이터의 개수\n",
    "- x_i 각 데이터\n",
    "- bar_x 데이터의 평균"
   ]
  },
  {
   "cell_type": "code",
   "execution_count": 9,
   "id": "48b1b123-ff25-4af6-ac24-fd78a9f4347b",
   "metadata": {},
   "outputs": [
    {
     "name": "stdout",
     "output_type": "stream",
     "text": [
      "919.6428571428571\n",
      "919.6428571428571\n"
     ]
    }
   ],
   "source": [
    "df = pd.read_excel('score.xlsx', index_col='지원번호')\n",
    "# 평균\n",
    "math_mean = df['수학'].mean()\n",
    "\n",
    "# 분산\n",
    "math_var = ((df['수학'] - math_mean) ** 2).sum() / (df['수학'].count() - 1)\n",
    "print(math_var)\n",
    "\n",
    "print(df['수학'].var())"
   ]
  },
  {
   "cell_type": "markdown",
   "id": "634b0856-2d44-4d60-bd76-e7db04562441",
   "metadata": {},
   "source": [
    "### ✅ std()\n",
    ": 표준편차\n",
    "$$ \\text{표준 편차} (\\text{SD}) = \\sqrt{\\text{분산} (\\text{Var})} = \\sqrt{\\frac{1}{n} \\sum_{i=1}^{n} (x_i - \\bar{x})^2} $$\n",
    "\n",
    "- n 데이터의 개수\n",
    "- x_i 각 데이터\n",
    "- bar_x 데이터의 평균"
   ]
  },
  {
   "cell_type": "code",
   "execution_count": 10,
   "id": "97e4c389-c8ab-4c09-b362-6844f74cb080",
   "metadata": {},
   "outputs": [
    {
     "name": "stdout",
     "output_type": "stream",
     "text": [
      "30.325613879076826\n",
      "30.325613879076826\n"
     ]
    }
   ],
   "source": [
    "print(np.sqrt(df['수학'].var()))\n",
    "print(df['수학'].std())"
   ]
  },
  {
   "cell_type": "markdown",
   "id": "5e2ecf61-d324-468e-8d21-a1cc3ffe2a03",
   "metadata": {},
   "source": [
    "### ✅ sum()\n",
    ": 합계"
   ]
  },
  {
   "cell_type": "code",
   "execution_count": 11,
   "id": "c5da6b06-0997-45e5-9589-6e37b1c9a9f5",
   "metadata": {},
   "outputs": [
    {
     "data": {
      "text/plain": [
       "키     1504\n",
       "국어     500\n",
       "영어     525\n",
       "수학     530\n",
       "과학     560\n",
       "사회     485\n",
       "dtype: int64"
      ]
     },
     "execution_count": 11,
     "metadata": {},
     "output_type": "execute_result"
    }
   ],
   "source": [
    "df.sum(numeric_only = True)"
   ]
  },
  {
   "cell_type": "markdown",
   "id": "cb2810fd-5766-475e-a186-fd8230907752",
   "metadata": {},
   "source": [
    "### ✅ cumsum()\n",
    ": 누적합"
   ]
  },
  {
   "cell_type": "code",
   "execution_count": 12,
   "id": "c74cc2e6-4a1d-46f4-96d8-177f0555a348",
   "metadata": {},
   "outputs": [
    {
     "data": {
      "text/plain": [
       "지원번호\n",
       "1번     197\n",
       "2번     381\n",
       "3번     549\n",
       "4번     736\n",
       "5번     924\n",
       "6번    1126\n",
       "7번    1314\n",
       "8번    1504\n",
       "Name: 키, dtype: int64"
      ]
     },
     "execution_count": 12,
     "metadata": {},
     "output_type": "execute_result"
    }
   ],
   "source": [
    "df['키'].cumsum()"
   ]
  },
  {
   "cell_type": "markdown",
   "id": "1fb0e772-165b-4cd8-aa9a-f450f432f94c",
   "metadata": {},
   "source": [
    "### ✅ cumprod()\n",
    ": 누적곱"
   ]
  },
  {
   "cell_type": "code",
   "execution_count": 13,
   "id": "25478a99-e213-4ce7-928c-3eb355cd002c",
   "metadata": {},
   "outputs": [
    {
     "data": {
      "text/plain": [
       "지원번호\n",
       "1번                90\n",
       "2번              3600\n",
       "3번            288000\n",
       "4번          11520000\n",
       "5번         172800000\n",
       "6번       13824000000\n",
       "7번      760320000000\n",
       "8번    76032000000000\n",
       "Name: 국어, dtype: int64"
      ]
     },
     "execution_count": 13,
     "metadata": {},
     "output_type": "execute_result"
    }
   ],
   "source": [
    "df['국어'].cumprod()"
   ]
  },
  {
   "cell_type": "markdown",
   "id": "7c4a17a8-170b-471d-957f-05f81f36bde7",
   "metadata": {},
   "source": [
    "### ✅ count()\n",
    ": Nan값을 제외한 데이터 갯수"
   ]
  },
  {
   "cell_type": "code",
   "execution_count": 14,
   "id": "f4595747-e23c-4b18-837d-15c62da8e326",
   "metadata": {
    "tags": []
   },
   "outputs": [
    {
     "data": {
      "text/plain": [
       "6"
      ]
     },
     "execution_count": 14,
     "metadata": {},
     "output_type": "execute_result"
    }
   ],
   "source": [
    "df['SW특기'].count()"
   ]
  },
  {
   "cell_type": "markdown",
   "id": "c3fd21cb-35e5-4d0c-9917-c91b21b7b58d",
   "metadata": {},
   "source": [
    "### ✅ mode()\n",
    ": 최빈값"
   ]
  },
  {
   "cell_type": "code",
   "execution_count": 15,
   "id": "511d3a3e-7217-47ba-8b68-810b895ecd0e",
   "metadata": {},
   "outputs": [
    {
     "data": {
      "text/plain": [
       "0    북산고\n",
       "Name: 학교, dtype: object"
      ]
     },
     "execution_count": 15,
     "metadata": {},
     "output_type": "execute_result"
    }
   ],
   "source": [
    "df['학교'].mode()"
   ]
  },
  {
   "cell_type": "markdown",
   "id": "453ca6a0-8dd2-4f6c-80a8-b95c89b46752",
   "metadata": {},
   "source": [
    "### ✅ quantile()\n",
    ": 분위(주어진 데이터를 동등한 크기로 분할하는 지점)"
   ]
  },
  {
   "cell_type": "code",
   "execution_count": 16,
   "id": "f07f97a9-81f7-498e-a2b3-d4db3003b991",
   "metadata": {},
   "outputs": [
    {
     "data": {
      "text/plain": [
       "38.5"
      ]
     },
     "execution_count": 16,
     "metadata": {},
     "output_type": "execute_result"
    }
   ],
   "source": [
    "# 하위 10%\n",
    "df['과학'].quantile(0.1)"
   ]
  },
  {
   "cell_type": "markdown",
   "id": "cf066217-1233-4a45-8db4-183a22164d19",
   "metadata": {},
   "source": [
    "### ✅ unique()\n",
    ": 데이터의 고유값 종류"
   ]
  },
  {
   "cell_type": "code",
   "execution_count": 17,
   "id": "4a362b20-2348-4448-b6cf-d5e61f6781bc",
   "metadata": {
    "tags": []
   },
   "outputs": [
    {
     "data": {
      "text/plain": [
       "array(['북산고', '능남고'], dtype=object)"
      ]
     },
     "execution_count": 17,
     "metadata": {},
     "output_type": "execute_result"
    }
   ],
   "source": [
    "df['학교'].unique()"
   ]
  },
  {
   "cell_type": "markdown",
   "id": "8f154748-eb49-4c93-b7d9-a4b2bc9bc8f9",
   "metadata": {},
   "source": [
    "### ✅ nunique()\n",
    ": 데이터의 고유값 갯수\\\n",
    "  unique값 갯수"
   ]
  },
  {
   "cell_type": "code",
   "execution_count": 18,
   "id": "eeb4ebb3-c4ef-4b50-b04d-3e813e0c6caa",
   "metadata": {
    "tags": []
   },
   "outputs": [
    {
     "data": {
      "text/plain": [
       "2"
      ]
     },
     "execution_count": 18,
     "metadata": {},
     "output_type": "execute_result"
    }
   ],
   "source": [
    "df['학교'].nunique()"
   ]
  },
  {
   "cell_type": "markdown",
   "id": "250f6d0d-337e-43b2-9ae3-d60e64f44b54",
   "metadata": {},
   "source": [
    "### ✅ agg (aggregation) \n",
    ": 복수 통계 함수 적용\\\n",
    "  ```df[['column_list']].agg([statistics_list])```"
   ]
  },
  {
   "cell_type": "code",
   "execution_count": 19,
   "id": "349bb376-cf38-4f38-8e54-9677b607c16c",
   "metadata": {},
   "outputs": [
    {
     "data": {
      "text/html": [
       "<div>\n",
       "<style scoped>\n",
       "    .dataframe tbody tr th:only-of-type {\n",
       "        vertical-align: middle;\n",
       "    }\n",
       "\n",
       "    .dataframe tbody tr th {\n",
       "        vertical-align: top;\n",
       "    }\n",
       "\n",
       "    .dataframe thead th {\n",
       "        text-align: right;\n",
       "    }\n",
       "</style>\n",
       "<table border=\"1\" class=\"dataframe\">\n",
       "  <thead>\n",
       "    <tr style=\"text-align: right;\">\n",
       "      <th></th>\n",
       "      <th>국어</th>\n",
       "      <th>수학</th>\n",
       "    </tr>\n",
       "  </thead>\n",
       "  <tbody>\n",
       "    <tr>\n",
       "      <th>min</th>\n",
       "      <td>15.0</td>\n",
       "      <td>10.00</td>\n",
       "    </tr>\n",
       "    <tr>\n",
       "      <th>max</th>\n",
       "      <td>100.0</td>\n",
       "      <td>100.00</td>\n",
       "    </tr>\n",
       "    <tr>\n",
       "      <th>count</th>\n",
       "      <td>8.0</td>\n",
       "      <td>8.00</td>\n",
       "    </tr>\n",
       "    <tr>\n",
       "      <th>mean</th>\n",
       "      <td>62.5</td>\n",
       "      <td>66.25</td>\n",
       "    </tr>\n",
       "  </tbody>\n",
       "</table>\n",
       "</div>"
      ],
      "text/plain": [
       "          국어      수학\n",
       "min     15.0   10.00\n",
       "max    100.0  100.00\n",
       "count    8.0    8.00\n",
       "mean    62.5   66.25"
      ]
     },
     "execution_count": 19,
     "metadata": {},
     "output_type": "execute_result"
    }
   ],
   "source": [
    "df[['국어', '수학']].agg(['min', 'max', 'count', 'mean'])"
   ]
  },
  {
   "cell_type": "markdown",
   "id": "0c8c33a1-6dd9-4bee-987a-dbd010da0427",
   "metadata": {},
   "source": [
    "### ✅ corr()\n",
    ": 상관관계\n",
    "- -1 ~ 1 사이의 범위\n",
    "- -1에 가까울수록 반비례 관계, 1에 가까울수록 정비례 관계"
   ]
  },
  {
   "cell_type": "code",
   "execution_count": 20,
   "id": "ae34a87f-b300-43ea-924e-3ebb5a4b7251",
   "metadata": {
    "tags": []
   },
   "outputs": [
    {
     "data": {
      "text/html": [
       "<div>\n",
       "<style scoped>\n",
       "    .dataframe tbody tr th:only-of-type {\n",
       "        vertical-align: middle;\n",
       "    }\n",
       "\n",
       "    .dataframe tbody tr th {\n",
       "        vertical-align: top;\n",
       "    }\n",
       "\n",
       "    .dataframe thead th {\n",
       "        text-align: right;\n",
       "    }\n",
       "</style>\n",
       "<table border=\"1\" class=\"dataframe\">\n",
       "  <thead>\n",
       "    <tr style=\"text-align: right;\">\n",
       "      <th></th>\n",
       "      <th>survived</th>\n",
       "      <th>pclass</th>\n",
       "      <th>age</th>\n",
       "      <th>sibsp</th>\n",
       "      <th>parch</th>\n",
       "      <th>fare</th>\n",
       "      <th>adult_male</th>\n",
       "      <th>alone</th>\n",
       "    </tr>\n",
       "  </thead>\n",
       "  <tbody>\n",
       "    <tr>\n",
       "      <th>survived</th>\n",
       "      <td>1.000000</td>\n",
       "      <td>-0.338481</td>\n",
       "      <td>-0.077221</td>\n",
       "      <td>-0.035322</td>\n",
       "      <td>0.081629</td>\n",
       "      <td>0.257307</td>\n",
       "      <td>-0.557080</td>\n",
       "      <td>-0.203367</td>\n",
       "    </tr>\n",
       "    <tr>\n",
       "      <th>pclass</th>\n",
       "      <td>-0.338481</td>\n",
       "      <td>1.000000</td>\n",
       "      <td>-0.369226</td>\n",
       "      <td>0.083081</td>\n",
       "      <td>0.018443</td>\n",
       "      <td>-0.549500</td>\n",
       "      <td>0.094035</td>\n",
       "      <td>0.135207</td>\n",
       "    </tr>\n",
       "    <tr>\n",
       "      <th>age</th>\n",
       "      <td>-0.077221</td>\n",
       "      <td>-0.369226</td>\n",
       "      <td>1.000000</td>\n",
       "      <td>-0.308247</td>\n",
       "      <td>-0.189119</td>\n",
       "      <td>0.096067</td>\n",
       "      <td>0.280328</td>\n",
       "      <td>0.198270</td>\n",
       "    </tr>\n",
       "    <tr>\n",
       "      <th>sibsp</th>\n",
       "      <td>-0.035322</td>\n",
       "      <td>0.083081</td>\n",
       "      <td>-0.308247</td>\n",
       "      <td>1.000000</td>\n",
       "      <td>0.414838</td>\n",
       "      <td>0.159651</td>\n",
       "      <td>-0.253586</td>\n",
       "      <td>-0.584471</td>\n",
       "    </tr>\n",
       "    <tr>\n",
       "      <th>parch</th>\n",
       "      <td>0.081629</td>\n",
       "      <td>0.018443</td>\n",
       "      <td>-0.189119</td>\n",
       "      <td>0.414838</td>\n",
       "      <td>1.000000</td>\n",
       "      <td>0.216225</td>\n",
       "      <td>-0.349943</td>\n",
       "      <td>-0.583398</td>\n",
       "    </tr>\n",
       "    <tr>\n",
       "      <th>fare</th>\n",
       "      <td>0.257307</td>\n",
       "      <td>-0.549500</td>\n",
       "      <td>0.096067</td>\n",
       "      <td>0.159651</td>\n",
       "      <td>0.216225</td>\n",
       "      <td>1.000000</td>\n",
       "      <td>-0.182024</td>\n",
       "      <td>-0.271832</td>\n",
       "    </tr>\n",
       "    <tr>\n",
       "      <th>adult_male</th>\n",
       "      <td>-0.557080</td>\n",
       "      <td>0.094035</td>\n",
       "      <td>0.280328</td>\n",
       "      <td>-0.253586</td>\n",
       "      <td>-0.349943</td>\n",
       "      <td>-0.182024</td>\n",
       "      <td>1.000000</td>\n",
       "      <td>0.404744</td>\n",
       "    </tr>\n",
       "    <tr>\n",
       "      <th>alone</th>\n",
       "      <td>-0.203367</td>\n",
       "      <td>0.135207</td>\n",
       "      <td>0.198270</td>\n",
       "      <td>-0.584471</td>\n",
       "      <td>-0.583398</td>\n",
       "      <td>-0.271832</td>\n",
       "      <td>0.404744</td>\n",
       "      <td>1.000000</td>\n",
       "    </tr>\n",
       "  </tbody>\n",
       "</table>\n",
       "</div>"
      ],
      "text/plain": [
       "            survived    pclass       age     sibsp     parch      fare  \\\n",
       "survived    1.000000 -0.338481 -0.077221 -0.035322  0.081629  0.257307   \n",
       "pclass     -0.338481  1.000000 -0.369226  0.083081  0.018443 -0.549500   \n",
       "age        -0.077221 -0.369226  1.000000 -0.308247 -0.189119  0.096067   \n",
       "sibsp      -0.035322  0.083081 -0.308247  1.000000  0.414838  0.159651   \n",
       "parch       0.081629  0.018443 -0.189119  0.414838  1.000000  0.216225   \n",
       "fare        0.257307 -0.549500  0.096067  0.159651  0.216225  1.000000   \n",
       "adult_male -0.557080  0.094035  0.280328 -0.253586 -0.349943 -0.182024   \n",
       "alone      -0.203367  0.135207  0.198270 -0.584471 -0.583398 -0.271832   \n",
       "\n",
       "            adult_male     alone  \n",
       "survived     -0.557080 -0.203367  \n",
       "pclass        0.094035  0.135207  \n",
       "age           0.280328  0.198270  \n",
       "sibsp        -0.253586 -0.584471  \n",
       "parch        -0.349943 -0.583398  \n",
       "fare         -0.182024 -0.271832  \n",
       "adult_male    1.000000  0.404744  \n",
       "alone         0.404744  1.000000  "
      ]
     },
     "execution_count": 20,
     "metadata": {},
     "output_type": "execute_result"
    }
   ],
   "source": [
    "import seaborn as sns\n",
    "df = sns.load_dataset('titanic')\n",
    "df.corr(numeric_only=True)"
   ]
  }
 ],
 "metadata": {
  "kernelspec": {
   "display_name": "Python 3 (ipykernel)",
   "language": "python",
   "name": "python3"
  },
  "language_info": {
   "codemirror_mode": {
    "name": "ipython",
    "version": 3
   },
   "file_extension": ".py",
   "mimetype": "text/x-python",
   "name": "python",
   "nbconvert_exporter": "python",
   "pygments_lexer": "ipython3",
   "version": "3.11.5"
  }
 },
 "nbformat": 4,
 "nbformat_minor": 5
}
